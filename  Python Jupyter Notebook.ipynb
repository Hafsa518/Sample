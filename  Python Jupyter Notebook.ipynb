{
 "cells": [
  {
   "cell_type": "markdown",
   "id": "2e607b5a",
   "metadata": {},
   "source": [
    "# Chapter 1\n"
   ]
  },
  {
   "cell_type": "code",
   "execution_count": 1,
   "id": "b6624473",
   "metadata": {},
   "outputs": [
    {
     "name": "stdout",
     "output_type": "stream",
     "text": [
      "4\n"
     ]
    }
   ],
   "source": [
    "x = 2\n",
    "x = x+2\n",
    "print(x)"
   ]
  },
  {
   "cell_type": "code",
   "execution_count": 2,
   "id": "1dfbda35",
   "metadata": {},
   "outputs": [
    {
     "name": "stdout",
     "output_type": "stream",
     "text": [
      "Hello world\n"
     ]
    }
   ],
   "source": [
    "print(\"Hello world\")"
   ]
  },
  {
   "cell_type": "code",
   "execution_count": 3,
   "id": "ac4f846c",
   "metadata": {},
   "outputs": [
    {
     "name": "stdout",
     "output_type": "stream",
     "text": [
      "2\n",
      "6\n"
     ]
    }
   ],
   "source": [
    "x = 2\n",
    "print(x)\n",
    "x = x+4\n",
    "print(x)"
   ]
  },
  {
   "cell_type": "code",
   "execution_count": 4,
   "id": "d33ca701",
   "metadata": {},
   "outputs": [
    {
     "name": "stdout",
     "output_type": "stream",
     "text": [
      "Smaller\n",
      "Finals\n"
     ]
    }
   ],
   "source": [
    "x = 5 \n",
    "if x < 10:\n",
    "    print('Smaller')\n",
    "if x > 20:\n",
    "    print('Bigger')\n",
    "    \n",
    "print('Finals')    "
   ]
  },
  {
   "cell_type": "markdown",
   "id": "e52b07bb",
   "metadata": {},
   "source": [
    "## Chapter 2\n",
    "## Expressions"
   ]
  },
  {
   "cell_type": "code",
   "execution_count": 5,
   "id": "11a443c4",
   "metadata": {},
   "outputs": [
    {
     "name": "stdout",
     "output_type": "stream",
     "text": [
      "123\n"
     ]
    }
   ],
   "source": [
    "print(123)"
   ]
  },
  {
   "cell_type": "code",
   "execution_count": 6,
   "id": "fc04f1a8",
   "metadata": {},
   "outputs": [
    {
     "name": "stdout",
     "output_type": "stream",
     "text": [
      "100 20\n"
     ]
    }
   ],
   "source": [
    "x = 12.2\n",
    "y = 20\n",
    "x = 100\n",
    "print(x,y)"
   ]
  },
  {
   "cell_type": "code",
   "execution_count": 7,
   "id": "cd383dde",
   "metadata": {},
   "outputs": [
    {
     "name": "stdout",
     "output_type": "stream",
     "text": [
      "24\n"
     ]
    }
   ],
   "source": [
    "yy = 12 * 2\n",
    "print(yy)"
   ]
  },
  {
   "cell_type": "code",
   "execution_count": 8,
   "id": "817aacab",
   "metadata": {},
   "outputs": [
    {
     "name": "stdout",
     "output_type": "stream",
     "text": [
      "3 3 4.0\n"
     ]
    }
   ],
   "source": [
    "x = str(3)\n",
    "y = int(3)\n",
    "z = float(4)\n",
    "print(x,y,z)"
   ]
  },
  {
   "cell_type": "code",
   "execution_count": 11,
   "id": "21390235",
   "metadata": {},
   "outputs": [
    {
     "name": "stdout",
     "output_type": "stream",
     "text": [
      "<class 'int'>\n",
      "<class 'str'>\n"
     ]
    }
   ],
   "source": [
    "x = 5\n",
    "y = 'John'\n",
    "print(type(x))\n",
    "print(type(y))"
   ]
  },
  {
   "cell_type": "code",
   "execution_count": 13,
   "id": "15c25ec6",
   "metadata": {},
   "outputs": [
    {
     "data": {
      "text/plain": [
       "float"
      ]
     },
     "execution_count": 13,
     "metadata": {},
     "output_type": "execute_result"
    }
   ],
   "source": [
    "x = 1\n",
    "type(x)\n",
    "temp = 12.45\n",
    "type(temp)"
   ]
  },
  {
   "cell_type": "code",
   "execution_count": 18,
   "id": "ddae0b11",
   "metadata": {
    "scrolled": true
   },
   "outputs": [
    {
     "name": "stdout",
     "output_type": "stream",
     "text": [
      "199.0\n",
      "<class 'int'>\n",
      "<class 'float'>\n"
     ]
    }
   ],
   "source": [
    "print(float(99) + 100)\n",
    "i = 42\n",
    "print(type(i))\n",
    "f = float(i)\n",
    "print(type(f))"
   ]
  },
  {
   "cell_type": "code",
   "execution_count": 19,
   "id": "0ab350bf",
   "metadata": {},
   "outputs": [
    {
     "name": "stdout",
     "output_type": "stream",
     "text": [
      "2.0\n"
     ]
    }
   ],
   "source": [
    "print(10/5)"
   ]
  },
  {
   "cell_type": "code",
   "execution_count": 20,
   "id": "3e7d047a",
   "metadata": {},
   "outputs": [
    {
     "name": "stdout",
     "output_type": "stream",
     "text": [
      "Europe floor?1\n",
      "US floor 2\n"
     ]
    }
   ],
   "source": [
    "inp = input('Europe floor?')\n",
    "usf = int(inp) + 1\n",
    "print('US floor', usf)"
   ]
  },
  {
   "cell_type": "code",
   "execution_count": 22,
   "id": "54495824",
   "metadata": {},
   "outputs": [
    {
     "name": "stdout",
     "output_type": "stream",
     "text": [
      "Father Name = John Stephen\n",
      "Her Father name is  John Stephen\n"
     ]
    }
   ],
   "source": [
    "inp = input('Father Name = ')\n",
    "print('Her Father name is ', inp)\n",
    "# This is a comment"
   ]
  },
  {
   "cell_type": "code",
   "execution_count": 29,
   "id": "3f88df20",
   "metadata": {},
   "outputs": [
    {
     "name": "stdout",
     "output_type": "stream",
     "text": [
      "Enter hours = 35\n",
      "Enter rate = 2\n",
      "Pay:  70\n"
     ]
    }
   ],
   "source": [
    "hours =int(input('Enter hours = '))\n",
    "rate = int(input('Enter rate = '))\n",
    "print('Pay: ',hours*rate)"
   ]
  },
  {
   "cell_type": "markdown",
   "id": "b90dbf6b",
   "metadata": {},
   "source": [
    "## Chapter 3 \n",
    "Conditional"
   ]
  },
  {
   "cell_type": "code",
   "execution_count": 35,
   "id": "4bea5998",
   "metadata": {},
   "outputs": [
    {
     "name": "stdout",
     "output_type": "stream",
     "text": [
      "Equals to five\n",
      "Greater than 4\n",
      "Greater than or equal to five\n",
      "Less tha 6\n"
     ]
    }
   ],
   "source": [
    "x = 5\n",
    "if x == 5:\n",
    "    print('Equals to five')\n",
    "if x > 4:\n",
    "    print('Greater than 4')\n",
    "if x >= 4:\n",
    "    print('Greater than or equal to five')\n",
    "if x < 6:\n",
    "    print('Less tha 6')"
   ]
  },
  {
   "cell_type": "code",
   "execution_count": 37,
   "id": "97d38f5d",
   "metadata": {},
   "outputs": [
    {
     "name": "stdout",
     "output_type": "stream",
     "text": [
      "Bigger than 2\n",
      "Still bigger\n",
      "Done with 2\n",
      "0\n",
      "Done with i  0\n",
      "All done\n",
      "1\n",
      "Done with i  1\n",
      "All done\n",
      "2\n",
      "Done with i  2\n",
      "All done\n",
      "3\n",
      "Bigger than 2\n",
      "Done with i  3\n",
      "All done\n",
      "4\n",
      "Bigger than 2\n",
      "Done with i  4\n",
      "All done\n"
     ]
    }
   ],
   "source": [
    "x = 5\n",
    "if x > 2:\n",
    "    print('Bigger than 2')\n",
    "    print('Still bigger')\n",
    "print('Done with 2')  \n",
    "for i in range(5):\n",
    "    print(i)\n",
    "    if i > 2:\n",
    "        print('Bigger than 2')\n",
    "    print('Done with i ', i)\n",
    "    print('All done')"
   ]
  },
  {
   "cell_type": "code",
   "execution_count": 38,
   "id": "74108e02",
   "metadata": {},
   "outputs": [
    {
     "name": "stdout",
     "output_type": "stream",
     "text": [
      "More than one\n",
      "Less than 100\n"
     ]
    }
   ],
   "source": [
    "x = 42\n",
    "if x > 1:\n",
    "    print('More than one')\n",
    "if x < 100:\n",
    "    print('Less than 100')"
   ]
  },
  {
   "cell_type": "code",
   "execution_count": 39,
   "id": "a95ddbc6",
   "metadata": {},
   "outputs": [
    {
     "name": "stdout",
     "output_type": "stream",
     "text": [
      "Bigger\n",
      "All done\n"
     ]
    }
   ],
   "source": [
    "x = 4\n",
    "if x > 2:\n",
    "    print('Bigger')\n",
    "else:\n",
    "    print('Smaller')\n",
    "print('All done')    "
   ]
  },
  {
   "cell_type": "code",
   "execution_count": 41,
   "id": "2715d116",
   "metadata": {},
   "outputs": [
    {
     "name": "stdout",
     "output_type": "stream",
     "text": [
      "Medium\n",
      "All Done\n"
     ]
    }
   ],
   "source": [
    "x = 5 \n",
    "if x < 2:\n",
    "    print('Small')\n",
    "elif x < 10:\n",
    "    print('Medium')\n",
    "else:\n",
    "    print('Large')\n",
    "print('All Done')"
   ]
  },
  {
   "cell_type": "code",
   "execution_count": 44,
   "id": "6e5728ed",
   "metadata": {},
   "outputs": [
    {
     "name": "stdout",
     "output_type": "stream",
     "text": [
      "Below 20\n"
     ]
    }
   ],
   "source": [
    "x = 5\n",
    "if x < 2:\n",
    "    print('Below 2')\n",
    "elif x < 20:\n",
    "    print('Below 20')\n",
    "elif x > 10:\n",
    "    print('Greater than 10')\n",
    "else:\n",
    "    print('Something else')"
   ]
  },
  {
   "cell_type": "code",
   "execution_count": 45,
   "id": "f7495065",
   "metadata": {},
   "outputs": [
    {
     "name": "stdout",
     "output_type": "stream",
     "text": [
      "Hello\n",
      "Done -1\n"
     ]
    }
   ],
   "source": [
    "astr = 'Ben'\n",
    "try:\n",
    "    print('Hello')\n",
    "    istr = int(astr)\n",
    "    print('There')\n",
    "except:\n",
    "    istr = -1\n",
    "\n",
    "print('Done', istr)    "
   ]
  },
  {
   "cell_type": "markdown",
   "id": "2f7f6e1c",
   "metadata": {},
   "source": [
    "## Chapter 4\n",
    "Functions"
   ]
  },
  {
   "cell_type": "code",
   "execution_count": 47,
   "id": "5ca3fe9d",
   "metadata": {},
   "outputs": [
    {
     "name": "stdout",
     "output_type": "stream",
     "text": [
      "w\n"
     ]
    }
   ],
   "source": [
    "big = max( 'Hello world' )\n",
    "print(big)"
   ]
  },
  {
   "cell_type": "code",
   "execution_count": 48,
   "id": "cb0761e4",
   "metadata": {},
   "outputs": [
    {
     "name": "stdout",
     "output_type": "stream",
     "text": [
      "Hello\n",
      "yes\n",
      "7\n"
     ]
    }
   ],
   "source": [
    "x = 5\n",
    "print('Hello')\n",
    "def print_lyrics():\n",
    "    print(\"I am a human being and i am okay.\")\n",
    "    print('I sleep all night and i work all day.')\n",
    "print('yes')\n",
    "x = x+2\n",
    "print(x)"
   ]
  },
  {
   "cell_type": "code",
   "execution_count": 51,
   "id": "c2c3abf5",
   "metadata": {},
   "outputs": [
    {
     "name": "stdout",
     "output_type": "stream",
     "text": [
      "hello Glenn\n",
      "hello Sally\n"
     ]
    }
   ],
   "source": [
    "def greet():\n",
    "    return \"hello\"\n",
    "print(greet(), 'Glenn')\n",
    "print(greet(), \"Sally\")"
   ]
  },
  {
   "cell_type": "code",
   "execution_count": 54,
   "id": "dee63aad",
   "metadata": {},
   "outputs": [
    {
     "name": "stdout",
     "output_type": "stream",
     "text": [
      "Hola\n",
      "Hello\n"
     ]
    }
   ],
   "source": [
    "def greet(lang):\n",
    "    if lang == 'es':\n",
    "        print('Hola')\n",
    "    elif lang == 'fr':\n",
    "        print('Bonjour')\n",
    "    else:\n",
    "        print('Hello')\n",
    "greet('es')\n",
    "greet('fg')"
   ]
  },
  {
   "cell_type": "code",
   "execution_count": 55,
   "id": "f2087a1f",
   "metadata": {},
   "outputs": [
    {
     "name": "stdout",
     "output_type": "stream",
     "text": [
      "8\n"
     ]
    }
   ],
   "source": [
    "def addtwo(a,b):\n",
    "    added = a + b\n",
    "    return added\n",
    "x = addtwo(3,5)\n",
    "print(x)"
   ]
  },
  {
   "cell_type": "code",
   "execution_count": 56,
   "id": "98acede9",
   "metadata": {},
   "outputs": [
    {
     "name": "stdout",
     "output_type": "stream",
     "text": [
      "3\n"
     ]
    }
   ],
   "source": [
    "def real(c,d):\n",
    "    learn = c - d\n",
    "    return learn\n",
    "x = real(8,5)\n",
    "print(x)"
   ]
  },
  {
   "cell_type": "markdown",
   "id": "6425ccd9",
   "metadata": {},
   "source": [
    "## Chapter 5\n",
    "Loops and iteration"
   ]
  },
  {
   "cell_type": "code",
   "execution_count": 57,
   "id": "18d766f3",
   "metadata": {},
   "outputs": [
    {
     "name": "stdout",
     "output_type": "stream",
     "text": [
      "> Hello\n",
      "Hello\n",
      "> Finished\n",
      "Finished\n",
      "> done\n",
      "Done!\n"
     ]
    }
   ],
   "source": [
    "while True:\n",
    "    line = input('> ')\n",
    "    if line == 'done':\n",
    "        break\n",
    "    print(line)\n",
    "print(\"Done!\")    "
   ]
  },
  {
   "cell_type": "code",
   "execution_count": 58,
   "id": "c7fcc888",
   "metadata": {},
   "outputs": [
    {
     "name": "stdout",
     "output_type": "stream",
     "text": [
      "> Hello There\n",
      "Hello There\n",
      "> #dont\n",
      "> #dont print this\n",
      "> Stephen Bonjour\n",
      "Stephen Bonjour\n",
      "> done\n",
      "Done!\n"
     ]
    }
   ],
   "source": [
    "while True:\n",
    "    line = input('> ')\n",
    "    if line[0] == '#':\n",
    "        continue\n",
    "    if line == 'done':\n",
    "        break\n",
    "    print(line)\n",
    "print('Done!')    "
   ]
  },
  {
   "cell_type": "code",
   "execution_count": 61,
   "id": "7c590baf",
   "metadata": {},
   "outputs": [
    {
     "name": "stdout",
     "output_type": "stream",
     "text": [
      "5\n",
      "4\n",
      "3\n",
      "2\n",
      "1\n",
      "Done\n"
     ]
    }
   ],
   "source": [
    "for i in [5,4,3,2,1]:\n",
    "    print(i)\n",
    "print('Done')    "
   ]
  },
  {
   "cell_type": "code",
   "execution_count": 63,
   "id": "e6d5c525",
   "metadata": {},
   "outputs": [
    {
     "name": "stdout",
     "output_type": "stream",
     "text": [
      "Before  -1\n",
      "12 12\n",
      "13 13\n",
      "14 14\n",
      "15 15\n",
      "16 16\n",
      "After  16\n"
     ]
    }
   ],
   "source": [
    "x = -1\n",
    "print('Before ',x)\n",
    "for i in [12,13,14,15,16]:\n",
    "    if i > x:\n",
    "        x = i\n",
    "    print(x , i)\n",
    "print('After ', x)    "
   ]
  },
  {
   "cell_type": "code",
   "execution_count": 64,
   "id": "bc5c27df",
   "metadata": {},
   "outputs": [
    {
     "name": "stdout",
     "output_type": "stream",
     "text": [
      "Before 0\n",
      "9 9\n",
      "50 41\n",
      "62 12\n",
      "65 3\n",
      "139 74\n",
      "154 15\n",
      "After 154\n"
     ]
    }
   ],
   "source": [
    "zoro = 0\n",
    "print('Before',zoro)\n",
    "for i in [9,41,12,3,74,15]:\n",
    "    zoro = zoro+i\n",
    "    print(zoro,i)\n",
    "print('After', zoro)    "
   ]
  },
  {
   "cell_type": "code",
   "execution_count": 65,
   "id": "0740cbb8",
   "metadata": {},
   "outputs": [
    {
     "name": "stdout",
     "output_type": "stream",
     "text": [
      "Before\n",
      "Larger number  41\n",
      "Larger number  34\n",
      "After\n"
     ]
    }
   ],
   "source": [
    "print('Before')\n",
    "for i in [12,3,41,15,34]:\n",
    "    if i>20:\n",
    "        print('Larger number ',i)\n",
    "print('After')        "
   ]
  },
  {
   "cell_type": "code",
   "execution_count": 66,
   "id": "2112578e",
   "metadata": {},
   "outputs": [
    {
     "name": "stdout",
     "output_type": "stream",
     "text": [
      "Before False\n",
      "False 9\n",
      "False 41\n",
      "False 12\n",
      "True 3\n",
      "True 74\n",
      "True 15\n",
      "After True\n"
     ]
    }
   ],
   "source": [
    "found = False\n",
    "print('Before',found)\n",
    "for i in [9,41,12,3,74,15]:\n",
    "    if i == 3:\n",
    "        found = True\n",
    "    print(found, i)\n",
    "print('After', found)    "
   ]
  },
  {
   "cell_type": "code",
   "execution_count": 67,
   "id": "5131c1ea",
   "metadata": {},
   "outputs": [
    {
     "name": "stdout",
     "output_type": "stream",
     "text": [
      "Before -1\n",
      "9 9\n",
      "41 41\n",
      "74 74\n",
      "After 74\n"
     ]
    }
   ],
   "source": [
    "x = -1\n",
    "print('Before', x)\n",
    "for i in [9,41,12,3,74,15]:\n",
    "    if i > x:\n",
    "        x = i\n",
    "        print(x,i)\n",
    "print('After', x)        "
   ]
  },
  {
   "cell_type": "code",
   "execution_count": 75,
   "id": "8a7d66c1",
   "metadata": {},
   "outputs": [
    {
     "name": "stdout",
     "output_type": "stream",
     "text": [
      "Before\n",
      "9 9\n",
      "9 41\n",
      "9 12\n",
      "3 3\n",
      "3 74\n",
      "3 15\n",
      "After 3\n"
     ]
    }
   ],
   "source": [
    "smallest = None\n",
    "print('Before')\n",
    "for i in [9,41,12,3,74,15]:\n",
    "    if smallest is None:\n",
    "        smallest = i\n",
    "    elif i < smallest:\n",
    "        smallest = i\n",
    "    print(smallest,i)\n",
    "print('After', smallest)    "
   ]
  },
  {
   "cell_type": "markdown",
   "id": "dfc9e6e8",
   "metadata": {},
   "source": [
    "## Chapter 6\n",
    "Strings"
   ]
  },
  {
   "cell_type": "code",
   "execution_count": 78,
   "id": "b38d132f",
   "metadata": {},
   "outputs": [
    {
     "name": "stdout",
     "output_type": "stream",
     "text": [
      "Hello There\n",
      "124\n"
     ]
    }
   ],
   "source": [
    "str1 = \"Hello \"\n",
    "str2 = \"There\"\n",
    "bob = str1 + str2\n",
    "print(bob)\n",
    "str3 = '123'\n",
    "x = int(str3) + 1\n",
    "print(x)"
   ]
  },
  {
   "cell_type": "code",
   "execution_count": 79,
   "id": "47296074",
   "metadata": {},
   "outputs": [
    {
     "name": "stdout",
     "output_type": "stream",
     "text": [
      "Enter:Chunk\n",
      "Chunk\n",
      "Enter:60\n",
      "50\n"
     ]
    }
   ],
   "source": [
    "name = input('Enter:')\n",
    "print(name)\n",
    "apple = input('Enter:')\n",
    "x = int(apple) - 10\n",
    "print(x)"
   ]
  },
  {
   "cell_type": "code",
   "execution_count": 81,
   "id": "09f37766",
   "metadata": {},
   "outputs": [
    {
     "name": "stdout",
     "output_type": "stream",
     "text": [
      "a\n",
      "n\n"
     ]
    }
   ],
   "source": [
    "fruit = 'banana'\n",
    "letter = fruit[1]\n",
    "print(letter)\n",
    "x = 3\n",
    "w = fruit[x-1]\n",
    "print(w)"
   ]
  },
  {
   "cell_type": "code",
   "execution_count": 85,
   "id": "9fbf071f",
   "metadata": {},
   "outputs": [
    {
     "name": "stdout",
     "output_type": "stream",
     "text": [
      "3\n"
     ]
    }
   ],
   "source": [
    "zot = 'abc'\n",
    "x = len(zot)\n",
    "print(x)"
   ]
  },
  {
   "cell_type": "code",
   "execution_count": 83,
   "id": "f3cafba0",
   "metadata": {},
   "outputs": [
    {
     "name": "stdout",
     "output_type": "stream",
     "text": [
      "6\n"
     ]
    }
   ],
   "source": [
    "fruit = 'banana'\n",
    "print(len(fruit))"
   ]
  },
  {
   "cell_type": "code",
   "execution_count": 86,
   "id": "a7c34ec8",
   "metadata": {},
   "outputs": [
    {
     "name": "stdout",
     "output_type": "stream",
     "text": [
      "b\n",
      "a\n",
      "n\n",
      "a\n",
      "n\n",
      "a\n"
     ]
    }
   ],
   "source": [
    "fruit = 'banana'\n",
    "for i in fruit:\n",
    "    print(i)"
   ]
  },
  {
   "cell_type": "code",
   "execution_count": 93,
   "id": "d5d923e9",
   "metadata": {},
   "outputs": [
    {
     "name": "stdout",
     "output_type": "stream",
     "text": [
      "Mont\n",
      "P\n",
      "Python\n",
      "Mo\n",
      "nty Python\n",
      "Monty Python\n"
     ]
    }
   ],
   "source": [
    "s = 'Monty Python'\n",
    "print(s[0:4])\n",
    "print(s[6:7])\n",
    "print(s[6:20])\n",
    "print(s[:2])\n",
    "print(s[2:])\n",
    "print(s[:])"
   ]
  },
  {
   "cell_type": "code",
   "execution_count": 97,
   "id": "5f6f8070",
   "metadata": {},
   "outputs": [
    {
     "name": "stdout",
     "output_type": "stream",
     "text": [
      "HelloThere\n",
      "Hello There\n"
     ]
    }
   ],
   "source": [
    "a = 'Hello'\n",
    "b = a + 'There'\n",
    "print(b)\n",
    "c = a + ' ' +'There'\n",
    "print(c)"
   ]
  },
  {
   "cell_type": "code",
   "execution_count": 100,
   "id": "fa6c8eca",
   "metadata": {},
   "outputs": [
    {
     "name": "stdout",
     "output_type": "stream",
     "text": [
      "Fount it\n"
     ]
    }
   ],
   "source": [
    "fruit = 'banana'\n",
    "'n' in fruit\n",
    "'m' in fruit\n",
    "if 'a' in fruit:\n",
    "    print('Fount it')"
   ]
  },
  {
   "cell_type": "code",
   "execution_count": 104,
   "id": "6a348748",
   "metadata": {},
   "outputs": [
    {
     "name": "stdout",
     "output_type": "stream",
     "text": [
      "hello bob\n",
      "hi there\n",
      "HELLO BOB\n"
     ]
    }
   ],
   "source": [
    "greet = 'Hello bob'\n",
    "zap = greet.lower()\n",
    "print(zap)\n",
    "print('Hi there'.lower())\n",
    "xy = greet.upper()\n",
    "print(xy)"
   ]
  },
  {
   "cell_type": "code",
   "execution_count": 106,
   "id": "5394abdf",
   "metadata": {},
   "outputs": [
    {
     "name": "stdout",
     "output_type": "stream",
     "text": [
      "2\n",
      "-1\n"
     ]
    }
   ],
   "source": [
    "fruit = 'banana'\n",
    "pos = fruit.find('na')\n",
    "print(pos)\n",
    "aa = fruit.find('z')\n",
    "print(aa)"
   ]
  },
  {
   "cell_type": "code",
   "execution_count": 107,
   "id": "6d41e800",
   "metadata": {},
   "outputs": [
    {
     "name": "stdout",
     "output_type": "stream",
     "text": [
      "Hello John\n"
     ]
    }
   ],
   "source": [
    "greet = 'Hello Bob'\n",
    "x = greet.replace('Bob','John')\n",
    "print(x)"
   ]
  },
  {
   "cell_type": "code",
   "execution_count": 112,
   "id": "aeecd19c",
   "metadata": {},
   "outputs": [
    {
     "data": {
      "text/plain": [
       "'Hello Bob'"
      ]
     },
     "execution_count": 112,
     "metadata": {},
     "output_type": "execute_result"
    }
   ],
   "source": [
    "greet = '   Hello Bob   '\n",
    "greet.lstrip()\n",
    "greet.rstrip()\n",
    "greet.strip()"
   ]
  },
  {
   "cell_type": "code",
   "execution_count": 118,
   "id": "69c458f0",
   "metadata": {},
   "outputs": [
    {
     "name": "stdout",
     "output_type": "stream",
     "text": [
      "13\n",
      "14\n"
     ]
    }
   ],
   "source": [
    "data = 'hafsatariq670@gmail.com'\n",
    "x = data.find('@')\n",
    "print(x)\n",
    "y = data.find('g')\n",
    "print(y)"
   ]
  },
  {
   "cell_type": "code",
   "execution_count": 123,
   "id": "5ec75a53",
   "metadata": {},
   "outputs": [
    {
     "data": {
      "text/plain": [
       "str"
      ]
     },
     "execution_count": 123,
     "metadata": {},
     "output_type": "execute_result"
    }
   ],
   "source": [
    "x = 'Python'\n",
    "type(x)\n",
    "y = u'Python'\n",
    "type(y)"
   ]
  }
 ],
 "metadata": {
  "kernelspec": {
   "display_name": "Python 3 (ipykernel)",
   "language": "python",
   "name": "python3"
  },
  "language_info": {
   "codemirror_mode": {
    "name": "ipython",
    "version": 3
   },
   "file_extension": ".py",
   "mimetype": "text/x-python",
   "name": "python",
   "nbconvert_exporter": "python",
   "pygments_lexer": "ipython3",
   "version": "3.11.4"
  }
 },
 "nbformat": 4,
 "nbformat_minor": 5
}
