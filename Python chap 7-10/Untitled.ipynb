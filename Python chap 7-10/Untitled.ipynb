{
 "cells": [
  {
   "cell_type": "markdown",
   "id": "c9173dcf",
   "metadata": {},
   "source": [
    "## Chapter 7\n",
    "Reading Files"
   ]
  },
  {
   "cell_type": "code",
   "execution_count": 7,
   "id": "3e453822",
   "metadata": {},
   "outputs": [
    {
     "name": "stdout",
     "output_type": "stream",
     "text": [
      "Woops! I have deleted the content!\n"
     ]
    }
   ],
   "source": [
    "f = open(\"demofile3.txt\", \"w\")\n",
    "f.write(\"Woops! I have deleted the content!\")\n",
    "f.close()\n",
    "\n",
    "#open and read the file after the overwriting:\n",
    "f = open(\"demofile3.txt\", \"r\")\n",
    "print(f.read())\n"
   ]
  },
  {
   "cell_type": "code",
   "execution_count": 8,
   "id": "e75f573a",
   "metadata": {},
   "outputs": [
    {
     "name": "stdout",
     "output_type": "stream",
     "text": [
      "Woops! I have deleted the content!There is some more content\n"
     ]
    }
   ],
   "source": [
    "f = open(\"demofile3.txt\", \"a\")\n",
    "f.write(\"There is some more content\")\n",
    "f.close()\n",
    "# open and read the file after the appending\n",
    "f = open(\"demofile3.txt\", \"r\")\n",
    "print(f.read())"
   ]
  },
  {
   "cell_type": "code",
   "execution_count": 13,
   "id": "0471adcb",
   "metadata": {},
   "outputs": [
    {
     "name": "stdout",
     "output_type": "stream",
     "text": [
      "Hello! its a jupyter notebook and we are doing python programes here\n"
     ]
    }
   ],
   "source": [
    "f = open(\"myfile.txt2\",\"x\")\n",
    "f.write(\"Hello! its a jupyter notebook and we are doing python programes here\")\n",
    "f.close()\n",
    "f = open(\"myfile.txt2\", \"r\")\n",
    "print(f.read())"
   ]
  },
  {
   "cell_type": "code",
   "execution_count": 15,
   "id": "aa39bbb7",
   "metadata": {},
   "outputs": [
    {
     "name": "stdout",
     "output_type": "stream",
     "text": [
      "The file does not exists\n"
     ]
    }
   ],
   "source": [
    "import os\n",
    "if os.path.exists(\"demofile2.txt\"):\n",
    "    os.remove(\"demofile2.txt\")\n",
    "else:\n",
    "    print(\"The file does not exists\")"
   ]
  },
  {
   "cell_type": "code",
   "execution_count": 19,
   "id": "557463ec",
   "metadata": {},
   "outputs": [
    {
     "name": "stdout",
     "output_type": "stream",
     "text": [
      "Hello\n",
      "World\n",
      "X\n",
      "y\n"
     ]
    },
    {
     "data": {
      "text/plain": [
       "11"
      ]
     },
     "execution_count": 19,
     "metadata": {},
     "output_type": "execute_result"
    }
   ],
   "source": [
    "stuff = 'Hello\\nWorld'\n",
    "print(stuff)\n",
    "stuff2 = 'X\\ny'\n",
    "print(stuff2)\n",
    "len(stuff2)\n",
    "len(stuff)"
   ]
  },
  {
   "cell_type": "code",
   "execution_count": 20,
   "id": "0661c9a5",
   "metadata": {},
   "outputs": [
    {
     "name": "stdout",
     "output_type": "stream",
     "text": [
      "Woops! I have deleted the content!There is some more content\n"
     ]
    }
   ],
   "source": [
    "xfile = open('demofile3.txt')\n",
    "for i in xfile:\n",
    "    print(i)"
   ]
  },
  {
   "cell_type": "code",
   "execution_count": 22,
   "id": "daa739b0",
   "metadata": {},
   "outputs": [
    {
     "name": "stdout",
     "output_type": "stream",
     "text": [
      "Line Count:  1\n"
     ]
    }
   ],
   "source": [
    "fhand = open('demofile3.txt')\n",
    "count = 0\n",
    "for line in fhand:\n",
    "    count = count + 1\n",
    "print('Line Count: ', count)    "
   ]
  },
  {
   "cell_type": "code",
   "execution_count": 23,
   "id": "71726e06",
   "metadata": {},
   "outputs": [
    {
     "name": "stdout",
     "output_type": "stream",
     "text": [
      "60\n"
     ]
    }
   ],
   "source": [
    "mhand = open('demofile3.txt')\n",
    "inp = mhand.read()\n",
    "print(len(inp))"
   ]
  },
  {
   "cell_type": "code",
   "execution_count": 26,
   "id": "f4655b91",
   "metadata": {},
   "outputs": [
    {
     "name": "stdout",
     "output_type": "stream",
     "text": [
      "Enter the file name: demofile3.txt\n",
      "There were 0 subject lines in demofile3.txt\n"
     ]
    }
   ],
   "source": [
    "fname = input('Enter the file name: ')\n",
    "fhand = open(fname)\n",
    "count = 0\n",
    "for line in fhand:\n",
    "    if line.startswith('content:'):\n",
    "        count = count + 1\n",
    "print('There were', count, 'subject lines in', fname)        "
   ]
  },
  {
   "cell_type": "markdown",
   "id": "c612a73d",
   "metadata": {},
   "source": [
    "## Chapter 8\n",
    "Python lists"
   ]
  },
  {
   "cell_type": "code",
   "execution_count": 31,
   "id": "1ce0e7ad",
   "metadata": {},
   "outputs": [
    {
     "name": "stdout",
     "output_type": "stream",
     "text": [
      "[1, 24, 76]\n",
      "['red', 'yellow', 'blur']\n",
      "['red', 24, 98.9]\n",
      "[1, [5, 6], 7]\n",
      "[]\n"
     ]
    }
   ],
   "source": [
    "print([1,24,76])\n",
    "print(['red','yellow','blur'])\n",
    "print(['red',24,98.9])\n",
    "print([1,[5,6],7])\n",
    "print([])"
   ]
  },
  {
   "cell_type": "code",
   "execution_count": 32,
   "id": "bf901e18",
   "metadata": {},
   "outputs": [
    {
     "name": "stdout",
     "output_type": "stream",
     "text": [
      "5\n",
      "4\n",
      "3\n",
      "2\n",
      "1\n"
     ]
    }
   ],
   "source": [
    "for i in [5,4,3,2,1]:\n",
    "    print(i)"
   ]
  },
  {
   "cell_type": "code",
   "execution_count": 33,
   "id": "6ff8a775",
   "metadata": {},
   "outputs": [
    {
     "name": "stdout",
     "output_type": "stream",
     "text": [
      "Happy New Year:  Joseph\n",
      "Happy New Year:  Glenn\n",
      "Happy New Year:  Sally\n",
      "Done!\n"
     ]
    }
   ],
   "source": [
    "friends = ['Joseph','Glenn','Sally']\n",
    "for friend in friends:\n",
    "    print('Happy New Year: ',friend)\n",
    "print('Done!')    "
   ]
  },
  {
   "cell_type": "code",
   "execution_count": 35,
   "id": "e1343c77",
   "metadata": {},
   "outputs": [
    {
     "name": "stdout",
     "output_type": "stream",
     "text": [
      "Happy New Year:  Joseph\n",
      "Happy New Year:  Glenn\n",
      "Happy New Year:  Sally\n",
      "Done!\n"
     ]
    }
   ],
   "source": [
    "z = ['Joseph','Glenn','Sally']\n",
    "for x in z:\n",
    "    print('Happy New Year: ', x)\n",
    "print('Done!')    "
   ]
  },
  {
   "cell_type": "code",
   "execution_count": 37,
   "id": "63fd1642",
   "metadata": {},
   "outputs": [
    {
     "name": "stdout",
     "output_type": "stream",
     "text": [
      "[2, 4, 6, 8, 10]\n",
      "[2, 4, 26, 8, 10]\n"
     ]
    }
   ],
   "source": [
    "lotto = [2,4,6,8,10]\n",
    "print(lotto)\n",
    "lotto[2] = 26\n",
    "print(lotto)"
   ]
  },
  {
   "cell_type": "code",
   "execution_count": 38,
   "id": "da05e09b",
   "metadata": {},
   "outputs": [
    {
     "name": "stdout",
     "output_type": "stream",
     "text": [
      "4\n"
     ]
    }
   ],
   "source": [
    "x = [1,2,'Joe',4]\n",
    "print(len(x))"
   ]
  },
  {
   "cell_type": "code",
   "execution_count": 42,
   "id": "5842dfde",
   "metadata": {},
   "outputs": [
    {
     "name": "stdout",
     "output_type": "stream",
     "text": [
      "3\n",
      "range(0, 3)\n"
     ]
    }
   ],
   "source": [
    "friends = ['joseph','Glenn','Sally']\n",
    "print(len(friends))\n",
    "print(range(len(friends)))"
   ]
  },
  {
   "cell_type": "code",
   "execution_count": 45,
   "id": "329428cd",
   "metadata": {},
   "outputs": [
    {
     "name": "stdout",
     "output_type": "stream",
     "text": [
      "Happy New Year: Ali\n",
      "Happy New Year: Hamza\n",
      "Happy New Year: Sara\n",
      "Happy New Year: Ali\n",
      "Happy New Year: Hamza\n",
      "Happy New Year: Sara\n",
      "3\n",
      "range(0, 3)\n"
     ]
    }
   ],
   "source": [
    "friends = ['Ali','Hamza','Sara']\n",
    "for friend in friends:\n",
    "    print('Happy New Year:',friend)\n",
    "for i in range(len(friends)):\n",
    "    friend = friends[i]\n",
    "    print('Happy New Year:',friend)\n",
    "print(len(friends))  \n",
    "print(range(len(friends)))"
   ]
  },
  {
   "cell_type": "code",
   "execution_count": 47,
   "id": "80ff4f5c",
   "metadata": {},
   "outputs": [
    {
     "name": "stdout",
     "output_type": "stream",
     "text": [
      "[1, 2, 3, 4, 5, 6]\n"
     ]
    }
   ],
   "source": [
    "a = [1,2,3]\n",
    "b = [4,5,6]\n",
    "c = a + b\n",
    "print(c)"
   ]
  },
  {
   "cell_type": "code",
   "execution_count": 50,
   "id": "6363ed66",
   "metadata": {},
   "outputs": [
    {
     "data": {
      "text/plain": [
       "[9, 5, 4, 12, 16]"
      ]
     },
     "execution_count": 50,
     "metadata": {},
     "output_type": "execute_result"
    }
   ],
   "source": [
    "t = [9,5,4,12,16]\n",
    "t[1:3]\n",
    "t[:4]\n",
    "t[:]"
   ]
  },
  {
   "cell_type": "code",
   "execution_count": 52,
   "id": "90a52b96",
   "metadata": {},
   "outputs": [
    {
     "data": {
      "text/plain": [
       "['__add__',\n",
       " '__class__',\n",
       " '__class_getitem__',\n",
       " '__contains__',\n",
       " '__delattr__',\n",
       " '__delitem__',\n",
       " '__dir__',\n",
       " '__doc__',\n",
       " '__eq__',\n",
       " '__format__',\n",
       " '__ge__',\n",
       " '__getattribute__',\n",
       " '__getitem__',\n",
       " '__getstate__',\n",
       " '__gt__',\n",
       " '__hash__',\n",
       " '__iadd__',\n",
       " '__imul__',\n",
       " '__init__',\n",
       " '__init_subclass__',\n",
       " '__iter__',\n",
       " '__le__',\n",
       " '__len__',\n",
       " '__lt__',\n",
       " '__mul__',\n",
       " '__ne__',\n",
       " '__new__',\n",
       " '__reduce__',\n",
       " '__reduce_ex__',\n",
       " '__repr__',\n",
       " '__reversed__',\n",
       " '__rmul__',\n",
       " '__setattr__',\n",
       " '__setitem__',\n",
       " '__sizeof__',\n",
       " '__str__',\n",
       " '__subclasshook__',\n",
       " 'append',\n",
       " 'clear',\n",
       " 'copy',\n",
       " 'count',\n",
       " 'extend',\n",
       " 'index',\n",
       " 'insert',\n",
       " 'pop',\n",
       " 'remove',\n",
       " 'reverse',\n",
       " 'sort']"
      ]
     },
     "execution_count": 52,
     "metadata": {},
     "output_type": "execute_result"
    }
   ],
   "source": [
    "x = list()\n",
    "type(x)\n",
    "dir(x)"
   ]
  },
  {
   "cell_type": "code",
   "execution_count": 55,
   "id": "8413b29c",
   "metadata": {},
   "outputs": [
    {
     "name": "stdout",
     "output_type": "stream",
     "text": [
      "['book', '99']\n",
      "['book', '99', 'chocolate']\n"
     ]
    }
   ],
   "source": [
    "stuff = list()\n",
    "stuff.append('book')\n",
    "stuff.append('99')\n",
    "print(stuff)\n",
    "stuff.append('chocolate')\n",
    "print(stuff)"
   ]
  },
  {
   "cell_type": "code",
   "execution_count": 57,
   "id": "b0c5d56d",
   "metadata": {},
   "outputs": [
    {
     "data": {
      "text/plain": [
       "False"
      ]
     },
     "execution_count": 57,
     "metadata": {},
     "output_type": "execute_result"
    }
   ],
   "source": [
    "some = [1,14,7,9]\n",
    "9 in some\n",
    "11 in some"
   ]
  },
  {
   "cell_type": "code",
   "execution_count": 59,
   "id": "3e055c81",
   "metadata": {},
   "outputs": [
    {
     "name": "stdout",
     "output_type": "stream",
     "text": [
      "['Ali', 'Glenn', 'Joseph']\n",
      "Ali\n"
     ]
    }
   ],
   "source": [
    "friends = ['Joseph','Glenn','Ali']\n",
    "friends.sort()\n",
    "print(friends)\n",
    "print(friends[0])"
   ]
  },
  {
   "cell_type": "code",
   "execution_count": 64,
   "id": "aead5730",
   "metadata": {},
   "outputs": [
    {
     "name": "stdout",
     "output_type": "stream",
     "text": [
      "5\n",
      "23\n",
      "7\n",
      "65\n",
      "13.0\n"
     ]
    }
   ],
   "source": [
    "nums = [15,12,8,23,7]\n",
    "print(len(nums))\n",
    "print(max(nums))\n",
    "print(min(nums))\n",
    "print(sum(nums))\n",
    "print(sum(nums)/len(nums))"
   ]
  },
  {
   "cell_type": "code",
   "execution_count": 65,
   "id": "1cbea846",
   "metadata": {},
   "outputs": [
    {
     "name": "stdout",
     "output_type": "stream",
     "text": [
      "['With', 'three', 'words']\n"
     ]
    }
   ],
   "source": [
    "abc = 'With three words'\n",
    "stuff = abc.split()\n",
    "print(stuff)"
   ]
  },
  {
   "cell_type": "code",
   "execution_count": 69,
   "id": "e3a988da",
   "metadata": {},
   "outputs": [
    {
     "name": "stdout",
     "output_type": "stream",
     "text": [
      "['From', 'stephen.marquard@uct.ac.za', 'Sat', 'Jan', '5', '09:14:16', '2008']\n",
      "stephen.marquard@uct.ac.za\n",
      "['stephen.marquard', 'uct.ac.za']\n"
     ]
    }
   ],
   "source": [
    "line = 'From stephen.marquard@uct.ac.za Sat Jan  5 09:14:16 2008'\n",
    "words = line.split()\n",
    "email = words[1]\n",
    "pieces = email.split('@')\n",
    "print(words)\n",
    "print(email)\n",
    "print(pieces)"
   ]
  },
  {
   "cell_type": "markdown",
   "id": "60d75a4a",
   "metadata": {},
   "source": [
    "## Chapter 9\n",
    "Python Dictionaries"
   ]
  },
  {
   "cell_type": "code",
   "execution_count": 71,
   "id": "f84cff3b",
   "metadata": {},
   "outputs": [
    {
     "name": "stdout",
     "output_type": "stream",
     "text": [
      "{'money': 12, 'candy': 3, 'tissues': 75}\n",
      "{'money': 12, 'candy': 5, 'tissues': 75}\n"
     ]
    }
   ],
   "source": [
    "purse = dict()\n",
    "purse['money'] = 12\n",
    "purse['candy'] = 3\n",
    "purse['tissues'] = 75\n",
    "print(purse)\n",
    "purse['candy'] = purse['candy'] + 2\n",
    "print(purse)"
   ]
  },
  {
   "cell_type": "code",
   "execution_count": 73,
   "id": "1c4d497c",
   "metadata": {},
   "outputs": [
    {
     "name": "stdout",
     "output_type": "stream",
     "text": [
      "{'age': 12, 'course': 15}\n",
      "{'age': 23, 'course': 15}\n"
     ]
    }
   ],
   "source": [
    "dd = dict()\n",
    "dd['age'] = 12\n",
    "dd['course'] = 15\n",
    "print(dd)\n",
    "dd['age'] = 23\n",
    "print(dd)"
   ]
  },
  {
   "cell_type": "code",
   "execution_count": 74,
   "id": "ce55a8d9",
   "metadata": {},
   "outputs": [
    {
     "name": "stdout",
     "output_type": "stream",
     "text": [
      "{}\n"
     ]
    }
   ],
   "source": [
    "ooo = {}\n",
    "print(ooo)"
   ]
  },
  {
   "cell_type": "code",
   "execution_count": 75,
   "id": "3bc31444",
   "metadata": {},
   "outputs": [
    {
     "name": "stdout",
     "output_type": "stream",
     "text": [
      "{'chuck': 1, 'fred': 42}\n"
     ]
    }
   ],
   "source": [
    "jj = {'chuck' : 1,'fred' : 42}\n",
    "print(jj)"
   ]
  },
  {
   "cell_type": "code",
   "execution_count": 76,
   "id": "16b40259",
   "metadata": {},
   "outputs": [
    {
     "name": "stdout",
     "output_type": "stream",
     "text": [
      "{'csev': 1, 'cwen': 1}\n",
      "{'csev': 1, 'cwen': 2}\n"
     ]
    }
   ],
   "source": [
    "ccc = dict()\n",
    "ccc['csev'] = 1\n",
    "ccc['cwen'] = 1\n",
    "print(ccc)\n",
    "ccc['cwen'] = ccc['cwen'] + 1\n",
    "print(ccc)"
   ]
  },
  {
   "cell_type": "code",
   "execution_count": 78,
   "id": "f975edfa",
   "metadata": {},
   "outputs": [
    {
     "name": "stdout",
     "output_type": "stream",
     "text": [
      "{'csev': 2, 'cwen': 2, 'zqain': 1}\n"
     ]
    }
   ],
   "source": [
    "counts = dict()\n",
    "names = ['csev','cwen','csev','zqain','cwen']\n",
    "for name in names :\n",
    "    if name not in counts:\n",
    "        counts[name] = 1\n",
    "    else:\n",
    "        counts[name] = counts[name] + 1\n",
    "print(counts)        "
   ]
  },
  {
   "cell_type": "code",
   "execution_count": 79,
   "id": "a0fb3b53",
   "metadata": {},
   "outputs": [
    {
     "name": "stdout",
     "output_type": "stream",
     "text": [
      "{'csev': 2, 'cwen': 2, 'zqain': 1}\n"
     ]
    }
   ],
   "source": [
    "counts = dict()\n",
    "names = ['csev','cwen','csev','zqain','cwen']\n",
    "for name in names :\n",
    "    counts[name] = counts.get(name,0) + 1\n",
    "print(counts)    "
   ]
  },
  {
   "cell_type": "code",
   "execution_count": 81,
   "id": "3b024adc",
   "metadata": {},
   "outputs": [
    {
     "name": "stdout",
     "output_type": "stream",
     "text": [
      "Enter a line of text\n",
      "To avoid getting an error, you might want to check if the file exists before you try to delete it\n",
      "Words:  ['To', 'avoid', 'getting', 'an', 'error,', 'you', 'might', 'want', 'to', 'check', 'if', 'the', 'file', 'exists', 'before', 'you', 'try', 'to', 'delete', 'it']\n",
      "Counting...\n",
      "Counts {'To': 1, 'avoid': 1, 'getting': 1, 'an': 1, 'error,': 1, 'you': 2, 'might': 1, 'want': 1, 'to': 2, 'check': 1, 'if': 1, 'the': 1, 'file': 1, 'exists': 1, 'before': 1, 'try': 1, 'delete': 1, 'it': 1}\n"
     ]
    }
   ],
   "source": [
    "count = dict()\n",
    "print('Enter a line of text')\n",
    "line = input('')\n",
    "words = line.split()\n",
    "print('Words: ',words)\n",
    "print('Counting...')\n",
    "for word in words:\n",
    "    count[word] = count.get(word,0) + 1\n",
    "print('Counts',count)    "
   ]
  },
  {
   "cell_type": "code",
   "execution_count": 82,
   "id": "5f284121",
   "metadata": {},
   "outputs": [
    {
     "name": "stdout",
     "output_type": "stream",
     "text": [
      "chuck 1\n",
      "Fred 42\n",
      "Jan 100\n"
     ]
    }
   ],
   "source": [
    "counts = {'chuck' : 1 ,'Fred' : 42,'Jan' : 100}\n",
    "for key in counts:\n",
    "    print(key,counts[key])"
   ]
  },
  {
   "cell_type": "code",
   "execution_count": 83,
   "id": "7bb3b37f",
   "metadata": {},
   "outputs": [
    {
     "name": "stdout",
     "output_type": "stream",
     "text": [
      "chuck 1\n",
      "Fred 42\n",
      "Jan 100\n"
     ]
    }
   ],
   "source": [
    "jj = {'chuck' : 1 ,'Fred' : 42,'Jan' : 100}\n",
    "for aa,bb in jj.items():\n",
    "    print(aa,bb)"
   ]
  },
  {
   "cell_type": "markdown",
   "id": "8e34c87e",
   "metadata": {},
   "source": [
    "## Chapter 10\n",
    "Tuples"
   ]
  },
  {
   "cell_type": "code",
   "execution_count": 84,
   "id": "7a4b50e2",
   "metadata": {},
   "outputs": [
    {
     "data": {
      "text/plain": [
       "['__add__',\n",
       " '__class__',\n",
       " '__class_getitem__',\n",
       " '__contains__',\n",
       " '__delattr__',\n",
       " '__delitem__',\n",
       " '__dir__',\n",
       " '__doc__',\n",
       " '__eq__',\n",
       " '__format__',\n",
       " '__ge__',\n",
       " '__getattribute__',\n",
       " '__getitem__',\n",
       " '__getstate__',\n",
       " '__gt__',\n",
       " '__hash__',\n",
       " '__iadd__',\n",
       " '__imul__',\n",
       " '__init__',\n",
       " '__init_subclass__',\n",
       " '__iter__',\n",
       " '__le__',\n",
       " '__len__',\n",
       " '__lt__',\n",
       " '__mul__',\n",
       " '__ne__',\n",
       " '__new__',\n",
       " '__reduce__',\n",
       " '__reduce_ex__',\n",
       " '__repr__',\n",
       " '__reversed__',\n",
       " '__rmul__',\n",
       " '__setattr__',\n",
       " '__setitem__',\n",
       " '__sizeof__',\n",
       " '__str__',\n",
       " '__subclasshook__',\n",
       " 'append',\n",
       " 'clear',\n",
       " 'copy',\n",
       " 'count',\n",
       " 'extend',\n",
       " 'index',\n",
       " 'insert',\n",
       " 'pop',\n",
       " 'remove',\n",
       " 'reverse',\n",
       " 'sort']"
      ]
     },
     "execution_count": 84,
     "metadata": {},
     "output_type": "execute_result"
    }
   ],
   "source": [
    "l = list()\n",
    "dir(l)"
   ]
  },
  {
   "cell_type": "code",
   "execution_count": 85,
   "id": "6bbaf915",
   "metadata": {},
   "outputs": [
    {
     "data": {
      "text/plain": [
       "['__add__',\n",
       " '__class__',\n",
       " '__class_getitem__',\n",
       " '__contains__',\n",
       " '__delattr__',\n",
       " '__dir__',\n",
       " '__doc__',\n",
       " '__eq__',\n",
       " '__format__',\n",
       " '__ge__',\n",
       " '__getattribute__',\n",
       " '__getitem__',\n",
       " '__getnewargs__',\n",
       " '__getstate__',\n",
       " '__gt__',\n",
       " '__hash__',\n",
       " '__init__',\n",
       " '__init_subclass__',\n",
       " '__iter__',\n",
       " '__le__',\n",
       " '__len__',\n",
       " '__lt__',\n",
       " '__mul__',\n",
       " '__ne__',\n",
       " '__new__',\n",
       " '__reduce__',\n",
       " '__reduce_ex__',\n",
       " '__repr__',\n",
       " '__rmul__',\n",
       " '__setattr__',\n",
       " '__sizeof__',\n",
       " '__str__',\n",
       " '__subclasshook__',\n",
       " 'count',\n",
       " 'index']"
      ]
     },
     "execution_count": 85,
     "metadata": {},
     "output_type": "execute_result"
    }
   ],
   "source": [
    "t = tuple()\n",
    "dir(t)"
   ]
  },
  {
   "cell_type": "code",
   "execution_count": 86,
   "id": "3680196f",
   "metadata": {},
   "outputs": [
    {
     "name": "stdout",
     "output_type": "stream",
     "text": [
      "fred\n",
      "4\n"
     ]
    }
   ],
   "source": [
    "(x,y) = (4,'fred')\n",
    "print(y)\n",
    "print(x)"
   ]
  },
  {
   "cell_type": "code",
   "execution_count": 88,
   "id": "47f2d207",
   "metadata": {},
   "outputs": [
    {
     "name": "stdout",
     "output_type": "stream",
     "text": [
      "csev 2\n",
      "cwen 4\n",
      "dict_items([('csev', 2), ('cwen', 4)])\n"
     ]
    }
   ],
   "source": [
    "d = dict()\n",
    "d['csev'] = 2\n",
    "d['cwen'] = 4\n",
    "for (k,v) in d.items():\n",
    "    print(k,v)\n",
    "tups = d.items()\n",
    "print(tups)"
   ]
  },
  {
   "cell_type": "code",
   "execution_count": 89,
   "id": "a130c311",
   "metadata": {},
   "outputs": [
    {
     "data": {
      "text/plain": [
       "True"
      ]
     },
     "execution_count": 89,
     "metadata": {},
     "output_type": "execute_result"
    }
   ],
   "source": [
    "(0,1,2)<(5,1,2)"
   ]
  },
  {
   "cell_type": "code",
   "execution_count": 90,
   "id": "dd084184",
   "metadata": {},
   "outputs": [
    {
     "data": {
      "text/plain": [
       "True"
      ]
     },
     "execution_count": 90,
     "metadata": {},
     "output_type": "execute_result"
    }
   ],
   "source": [
    "('Jones','Ali')<('Sara','Hira')"
   ]
  },
  {
   "cell_type": "code",
   "execution_count": 94,
   "id": "971e7238",
   "metadata": {},
   "outputs": [
    {
     "data": {
      "text/plain": [
       "[('a', 10), ('b', 1), ('c', 22)]"
      ]
     },
     "execution_count": 94,
     "metadata": {},
     "output_type": "execute_result"
    }
   ],
   "source": [
    "d = {'a':10, 'b':1,'c':22}\n",
    "d.items()\n",
    "sorted(d.items())"
   ]
  },
  {
   "cell_type": "code",
   "execution_count": 96,
   "id": "f9755047",
   "metadata": {},
   "outputs": [
    {
     "name": "stdout",
     "output_type": "stream",
     "text": [
      "a 10\n",
      "b 1\n",
      "c 22\n"
     ]
    }
   ],
   "source": [
    "d = {'a':10, 'b':1,'c':22}\n",
    "t = sorted(d.items())\n",
    "for (k,v) in sorted(d.items()):\n",
    "    print(k,v)"
   ]
  },
  {
   "cell_type": "code",
   "execution_count": 98,
   "id": "2f2db724",
   "metadata": {},
   "outputs": [
    {
     "name": "stdout",
     "output_type": "stream",
     "text": [
      "[(10, 'a'), (1, 'b'), (22, 'c')]\n",
      "[(22, 'c'), (10, 'a'), (1, 'b')]\n"
     ]
    }
   ],
   "source": [
    "c = {'a':10, 'b':1,'c':22}\n",
    "temp = list()\n",
    "for (k,v) in c.items():\n",
    "    temp.append( (v,k))\n",
    "print(temp) \n",
    "temp = sorted(temp,reverse=True)\n",
    "print(temp)"
   ]
  },
  {
   "cell_type": "code",
   "execution_count": 99,
   "id": "6b8b612e",
   "metadata": {},
   "outputs": [
    {
     "name": "stdout",
     "output_type": "stream",
     "text": [
      "[(1, 'b'), (10, 'a'), (22, 'c')]\n"
     ]
    }
   ],
   "source": [
    "c = {'a':10, 'b':1,'c':22}\n",
    "print( sorted( [ (v,k) for (k,v) in c.items() ] ) )"
   ]
  },
  {
   "cell_type": "code",
   "execution_count": null,
   "id": "ac200b74",
   "metadata": {},
   "outputs": [],
   "source": []
  }
 ],
 "metadata": {
  "kernelspec": {
   "display_name": "Python 3 (ipykernel)",
   "language": "python",
   "name": "python3"
  },
  "language_info": {
   "codemirror_mode": {
    "name": "ipython",
    "version": 3
   },
   "file_extension": ".py",
   "mimetype": "text/x-python",
   "name": "python",
   "nbconvert_exporter": "python",
   "pygments_lexer": "ipython3",
   "version": "3.11.4"
  }
 },
 "nbformat": 4,
 "nbformat_minor": 5
}
